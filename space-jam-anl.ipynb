{
 "cells": [
  {
   "cell_type": "code",
   "execution_count": null,
   "source": [
    "import pandas as pd"
   ],
   "outputs": [],
   "metadata": {}
  },
  {
   "cell_type": "code",
   "execution_count": null,
   "source": [
    "# Import data from the CSV file to a pandas DataFrame.\n",
    "player_df = pd.read_csv('player_data.csv')"
   ],
   "outputs": [],
   "metadata": {}
  },
  {
   "cell_type": "code",
   "execution_count": null,
   "source": [
    "# Print out the first five rows of the player_df DataFrame.\n",
    "player_df.head(5)"
   ],
   "outputs": [],
   "metadata": {}
  },
  {
   "cell_type": "code",
   "execution_count": null,
   "source": [
    "# Total up the number of NaN values in each row of the DataFrame.\n",
    "player_df.isna().sum()"
   ],
   "outputs": [],
   "metadata": {}
  },
  {
   "cell_type": "code",
   "execution_count": null,
   "source": [
    "# Print out the information about the DataFrame.\n",
    "player_df.info()"
   ],
   "outputs": [],
   "metadata": {}
  },
  {
   "cell_type": "code",
   "execution_count": null,
   "source": [
    "# Drop columns that have no values.\n",
    "player_df.dropna(axis='columns', inplace=True, how='all')\n",
    "player_df.isna().sum()"
   ],
   "outputs": [],
   "metadata": {}
  },
  {
   "cell_type": "code",
   "execution_count": null,
   "source": [
    "player_df.info()"
   ],
   "outputs": [],
   "metadata": {}
  },
  {
   "cell_type": "code",
   "execution_count": null,
   "source": [
    "# Drop rows that have no values.\n",
    "player_df.dropna(inplace=True, how='all')\n",
    "player_df.isna().sum()"
   ],
   "outputs": [],
   "metadata": {}
  },
  {
   "cell_type": "code",
   "execution_count": null,
   "source": [
    "# Show the entire DataFrame.\n",
    "player_df"
   ],
   "outputs": [],
   "metadata": {}
  },
  {
   "cell_type": "code",
   "execution_count": null,
   "source": [
    "# Drop all rows that don't have at least 12 non-NaN values.\n",
    "player_df.dropna(inplace=True, thresh=12)\n",
    "player_df.isna().sum()"
   ],
   "outputs": [],
   "metadata": {}
  },
  {
   "cell_type": "code",
   "execution_count": null,
   "source": [
    "player_df.info()"
   ],
   "outputs": [],
   "metadata": {}
  },
  {
   "cell_type": "code",
   "execution_count": null,
   "source": [
    "# Print the first 10 rows of the player_df DataFrame.\n",
    "player_df.head(10)"
   ],
   "outputs": [],
   "metadata": {}
  },
  {
   "cell_type": "code",
   "execution_count": null,
   "source": [
    "# Renumber the DataFrame index to account for the dropped rows.\n",
    "player_df.reset_index(drop=True, inplace=True)\n",
    "player_df.info()"
   ],
   "outputs": [],
   "metadata": {}
  },
  {
   "cell_type": "code",
   "execution_count": null,
   "source": [
    "player_df"
   ],
   "outputs": [],
   "metadata": {}
  },
  {
   "cell_type": "code",
   "execution_count": null,
   "source": [
    "player_df.describe()"
   ],
   "outputs": [],
   "metadata": {}
  },
  {
   "cell_type": "code",
   "execution_count": null,
   "source": [
    "import matplotlib.pyplot as plt\n",
    "import seaborn as sns"
   ],
   "outputs": [],
   "metadata": {}
  },
  {
   "cell_type": "code",
   "execution_count": null,
   "source": [
    "# Create a list of all column names, except for ID.\n",
    "cols = list(player_df.iloc[:, 1:])\n",
    "\n",
    "# Create a 3x5 matrix of subplots.\n",
    "fig, axes = plt.subplots(3, 5, figsize=(18, 11))\n",
    "\n",
    "# Create padding around subplots to make the axis labels readable.\n",
    "fig.tight_layout(pad=2.0)\n",
    "\n",
    "# Loop over the columns of the DataFrame and create a box plot for each one.\n",
    "for i in range(len(cols)):\n",
    "    sns.boxplot(ax=axes[i//5, i%5], y=player_df[cols[i]])"
   ],
   "outputs": [],
   "metadata": {}
  },
  {
   "cell_type": "code",
   "execution_count": null,
   "source": [
    "# Identify the index number of the row that has the lowest value in 'points'.\n",
    "points_outlier = player_df['points'].idxmin()\n",
    "points_outlier"
   ],
   "outputs": [],
   "metadata": {}
  },
  {
   "cell_type": "code",
   "execution_count": null,
   "source": [
    "# Identify the index number of the row that has the lowest value in 'possession'.\n",
    "possession_outlier = player_df['possessions'].idxmin()\n",
    "possession_outlier"
   ],
   "outputs": [],
   "metadata": {}
  },
  {
   "cell_type": "code",
   "execution_count": null,
   "source": [
    "# Drop the row that has the outlying values for 'points' and 'possessions'.\n",
    "player_df.drop(player_df.index[points_outlier], inplace=True)\n",
    "\n",
    "# Check the end of the DataFrame to ensure that the correct row was dropped.\n",
    "player_df.tail(10)"
   ],
   "outputs": [],
   "metadata": {}
  },
  {
   "cell_type": "code",
   "execution_count": null,
   "source": [
    "# Renumber the DataFrame index to reflect the dropped rows.\n",
    "player_df.reset_index(drop=True, inplace=True)"
   ],
   "outputs": [],
   "metadata": {}
  },
  {
   "cell_type": "code",
   "execution_count": null,
   "source": [
    "# Renumber the DataFrame index to reflect the dropped rows.\n",
    "player_df.tail(10)"
   ],
   "outputs": [],
   "metadata": {}
  },
  {
   "cell_type": "code",
   "execution_count": null,
   "source": [
    "# Recheck the totals for NaN values by row.\n",
    "player_df.isna().sum()"
   ],
   "outputs": [],
   "metadata": {}
  },
  {
   "cell_type": "code",
   "execution_count": null,
   "source": [
    "# Create a list of all column names, except for 'ID'.\n",
    "cols = list(player_df.iloc[:, 1:])\n",
    "\n",
    "# Define the size for the plots and add padding around them.\n",
    "fig = plt.figure(figsize=(18, 11))\n",
    "fig.tight_layout(pad=5.0)\n",
    "\n",
    "# Loop over the columns in the DataFrame and create a histogram for each one.\n",
    "for i in range(len(cols)):\n",
    "    plt.subplot(3, 5, i+1)\n",
    "    plt.hist(player_df[cols[i]], bins=30)\n",
    "    plt.title(cols[i])"
   ],
   "outputs": [],
   "metadata": {}
  },
  {
   "cell_type": "code",
   "execution_count": null,
   "source": [
    "# Create a histogram for the 'GP' column.\n",
    "plt.hist(player_df['GP'], bins=30);"
   ],
   "outputs": [],
   "metadata": {}
  },
  {
   "cell_type": "code",
   "execution_count": null,
   "source": [
    "# Create a histogram for the 'GP' column, this time as a probability density.\n",
    "plt.hist(player_df['GP'], density=True, bins=30);"
   ],
   "outputs": [],
   "metadata": {}
  },
  {
   "cell_type": "code",
   "execution_count": null,
   "source": [
    "# Plot the KDE for 'GP' over the probability-density histogram.\n",
    "plt.hist(player_df['GP'], density=True, bins=15)\n",
    "plt.title('GP histogram')\n",
    "sns.kdeplot(player_df['GP']);"
   ],
   "outputs": [],
   "metadata": {}
  },
  {
   "cell_type": "code",
   "execution_count": null,
   "source": [
    "# Create a list of all column names, except for 'ID'.\n",
    "cols = list(player_df.iloc[:, 1:])\n",
    "\n",
    "# Create a 3x5 matrix of subplots and add padding around them for readability.\n",
    "fig, axes = plt.subplots(3, 5, figsize=(18, 11))\n",
    "fig.tight_layout(pad=2.0)\n",
    "\n",
    "# Loop over the columns of the DataFrame and create a KDE for each one.\n",
    "for i in range(len(cols)):\n",
    "    sns.kdeplot(ax=axes[i//5, i%5], data=player_df[cols[i]])"
   ],
   "outputs": [],
   "metadata": {}
  },
  {
   "cell_type": "code",
   "execution_count": null,
   "source": [
    "# Plot the KDE for 'points' over the probability-density histogram.\n",
    "plt.hist(player_df['points'], density=True, bins=15)\n",
    "plt.title('Points histogram')\n",
    "sns.kdeplot(player_df['points']);"
   ],
   "outputs": [],
   "metadata": {}
  },
  {
   "cell_type": "code",
   "execution_count": null,
   "source": [
    "player_df.loc[player_df['points'] >= 1600].info()"
   ],
   "outputs": [],
   "metadata": {}
  },
  {
   "cell_type": "code",
   "execution_count": null,
   "source": [
    "# Plot the KDE for 'DRR' over the probability-density histogram.\n",
    "plt.hist(player_df['DRR'], density=True, bins=15)\n",
    "plt.title('DRR histogram')\n",
    "sns.kdeplot(player_df['DRR']);"
   ],
   "outputs": [],
   "metadata": {}
  },
  {
   "cell_type": "code",
   "execution_count": null,
   "source": [
    "player_df.loc[(player_df['points'] >= 1600) & (player_df['DRR'] >= 15)].info()"
   ],
   "outputs": [],
   "metadata": {}
  },
  {
   "cell_type": "code",
   "execution_count": null,
   "source": [
    "# Plot the KDE for 'PER' over the probability-density histogram.\n",
    "plt.hist(player_df['PER'], density=True, bins=15)\n",
    "plt.title('PER histogram')\n",
    "sns.kdeplot(player_df['PER']);"
   ],
   "outputs": [],
   "metadata": {}
  },
  {
   "cell_type": "code",
   "execution_count": null,
   "source": [
    "player_df.loc[(player_df['points'] >= 1600) & (player_df['DRR'] >= 15) & (player_df['PER'] >= 17)]"
   ],
   "outputs": [],
   "metadata": {}
  },
  {
   "cell_type": "code",
   "execution_count": null,
   "source": [
    "player_df.loc[player_df['ID'] == 34]"
   ],
   "outputs": [],
   "metadata": {}
  },
  {
   "cell_type": "code",
   "execution_count": null,
   "source": [
    "# Initialize the list to house the player data.\n",
    "pop_list = []\n",
    "\n",
    "# If the ID number is 30 or less, it's a human player; otherwise, it's a Tune Squad player.\n",
    "for id in player_df['ID']:\n",
    "    if id <= 30:\n",
    "        pop_list.append('player'+str(id))\n",
    "    else:\n",
    "        pop_list.append('tune_squad'+str(id%30))\n",
    "\n",
    "pop_list"
   ],
   "outputs": [],
   "metadata": {}
  },
  {
   "cell_type": "code",
   "execution_count": null,
   "source": [
    "# Assign this list as the values for the new player column in the DataFrame.\n",
    "player_df['player'] = pop_list\n",
    "player_df.head()"
   ],
   "outputs": [],
   "metadata": {}
  },
  {
   "cell_type": "code",
   "execution_count": null,
   "source": [
    "# Create list of all DataFrame column names but the last one.\n",
    "column_list = list(player_df.iloc[:, :-1])\n",
    "\n",
    "# Make player the second item in the list.\n",
    "column_list.insert(1, 'player')\n",
    "\n",
    "# Reassign the columns in the player_df DataFrame in this new order.\n",
    "player_df = player_df[column_list]\n",
    "\n",
    "# Verify that the columns are ordered the way you expect.\n",
    "player_df.head()"
   ],
   "outputs": [],
   "metadata": {}
  },
  {
   "cell_type": "code",
   "execution_count": null,
   "source": [
    "# Recheck the totals for NaN values by row.\n",
    "player_df.isna().sum()"
   ],
   "outputs": [],
   "metadata": {}
  },
  {
   "cell_type": "code",
   "execution_count": null,
   "source": [
    "# Plot the KDE for 'GP' over the probability-density histogram.\n",
    "plt.hist(player_df['GP'], density=True, bins=15)\n",
    "plt.title('GP histogram')\n",
    "sns.kdeplot(player_df['GP']);"
   ],
   "outputs": [],
   "metadata": {}
  },
  {
   "cell_type": "code",
   "execution_count": null,
   "source": [
    "# Plot the KDE for 'MPG' over the probability-density histogram.\n",
    "plt.hist(player_df['MPG'], density=True, bins=15)\n",
    "plt.title('MPG histogram')\n",
    "sns.kdeplot(player_df['MPG']);"
   ],
   "outputs": [],
   "metadata": {}
  },
  {
   "cell_type": "code",
   "execution_count": null,
   "source": [
    "# Plot the KDE for 'PER' over the probability-density histogram.\n",
    "plt.hist(player_df['PER'], density=True, bins=15)\n",
    "plt.title('PER histogram')\n",
    "sns.kdeplot(player_df['PER']);"
   ],
   "outputs": [],
   "metadata": {}
  },
  {
   "cell_type": "code",
   "execution_count": null,
   "source": [
    "# Replace the missing values in 'GP' and 'MPG' with the mean values of the respective columns.\n",
    "player_df[['GP','MPG']] = player_df[['GP','MPG']].fillna(value=player_df[['GP','MPG']].mean())\n",
    "\n",
    "# Recheck the totals for NaN values by row to ensure that the expected missing values are filled in.\n",
    "player_df.isna().sum()"
   ],
   "outputs": [],
   "metadata": {}
  },
  {
   "cell_type": "code",
   "execution_count": null,
   "source": [
    "from sklearn.linear_model import LinearRegression\n",
    "from sklearn.metrics import r2_score\n",
    "from sklearn.model_selection import cross_val_score\n",
    "\n",
    "# Define the variables for the regression model as those rows that have no missing values.\n",
    "X = player_df.dropna(how='any').iloc[:, 5:-1].to_numpy()\n",
    "y = player_df.dropna(how='any').iloc[:, -1]\n",
    "\n",
    "# Define the regression model.\n",
    "lin_reg = LinearRegression()\n",
    "\n",
    "# Use the scikit-learn cross-validation function to fit this model 10 times and return the R2 scores.\n",
    "scores = cross_val_score(lin_reg, X, y, cv=10, scoring='r2')\n",
    "\n",
    "# Define the histogram of the scores and copy out information from the histogram.\n",
    "entries, bin_edges, patches = plt.hist(scores, bins=10);\n",
    "\n",
    "# Print out the mean and the results from the histogram.\n",
    "print('Mean r2 score: {:.4f}'.format(scores.mean()))\n",
    "for i in range(len(entries)):\n",
    "    if entries[i] > 0:\n",
    "        print('{:.0f}% of r2 scores are between {:.4f} and {:.4f}'.format(entries[i]*100/len(entries), \n",
    "        bin_edges[i], \n",
    "        bin_edges[i+1]))"
   ],
   "outputs": [],
   "metadata": {}
  },
  {
   "cell_type": "code",
   "execution_count": null,
   "source": [
    "# Fit the same regression model, this time using all of the available data.\n",
    "lin_reg.fit(X, y)"
   ],
   "outputs": [],
   "metadata": {}
  },
  {
   "cell_type": "code",
   "execution_count": null,
   "source": [
    "# Create and display a mask of rows in the DataFrame. Rows should contain at least one NaN value.\n",
    "mask = player_df.isnull().any(axis=1)\n",
    "mask"
   ],
   "outputs": [],
   "metadata": {}
  },
  {
   "cell_type": "code",
   "execution_count": null,
   "source": [
    "# Apply the mask defined earlier to show the contents of specific columns of rows that contain NaN values.\n",
    "player_df.loc[mask].iloc[:, 5:-1]"
   ],
   "outputs": [],
   "metadata": {}
  },
  {
   "cell_type": "code",
   "execution_count": null,
   "source": [
    "# Impute the missing values in 'PER' by using the regression model and mask.\n",
    "player_df.loc[mask, 'PER'] = lin_reg.predict(player_df.loc[mask].iloc[:, 5:-1])\n",
    "\n",
    "# Recheck the DataFrame for rows that have missing values.\n",
    "player_df.isna().sum()"
   ],
   "outputs": [],
   "metadata": {}
  },
  {
   "cell_type": "code",
   "execution_count": null,
   "source": [
    "# Display the entire DataFrame.\n",
    "player_df"
   ],
   "outputs": [],
   "metadata": {}
  },
  {
   "cell_type": "code",
   "execution_count": null,
   "source": [
    "player_df.to_csv('player_data_final.csv', index=False)"
   ],
   "outputs": [],
   "metadata": {}
  }
 ],
 "metadata": {
  "orig_nbformat": 4,
  "language_info": {
   "name": "python",
   "version": "3.9.4",
   "mimetype": "text/x-python",
   "codemirror_mode": {
    "name": "ipython",
    "version": 3
   },
   "pygments_lexer": "ipython3",
   "nbconvert_exporter": "python",
   "file_extension": ".py"
  },
  "kernelspec": {
   "name": "python3",
   "display_name": "Python 3.9.4 64-bit ('test': venv)"
  },
  "interpreter": {
   "hash": "fe883b6f5b2e826f1677853e520da46bf8f77144a43a69dda53ceee4d073baab"
  }
 },
 "nbformat": 4,
 "nbformat_minor": 2
}